{
  "nbformat": 4,
  "nbformat_minor": 0,
  "metadata": {
    "colab": {
      "provenance": [],
      "authorship_tag": "ABX9TyNb144v9ZNMRE6jkoKm5CK6",
      "include_colab_link": true
    },
    "kernelspec": {
      "name": "python3",
      "display_name": "Python 3"
    },
    "language_info": {
      "name": "python"
    }
  },
  "cells": [
    {
      "cell_type": "markdown",
      "metadata": {
        "id": "view-in-github",
        "colab_type": "text"
      },
      "source": [
        "<a href=\"https://colab.research.google.com/github/demetriusohalloran-byte/631/blob/main/Birthday_week_day%3F.ipynb\" target=\"_parent\"><img src=\"https://colab.research.google.com/assets/colab-badge.svg\" alt=\"Open In Colab\"/></a>"
      ]
    },
    {
      "cell_type": "code",
      "execution_count": 3,
      "metadata": {
        "colab": {
          "base_uri": "https://localhost:8080/"
        },
        "id": "0GTRXRlIgwbZ",
        "outputId": "bcf9e681-63df-45fd-99c3-c972e5dc66f6"
      },
      "outputs": [
        {
          "output_type": "stream",
          "name": "stdout",
          "text": [
            "Enter your birthday (YYYY-MM-DD): 1975-02-01\n",
            "\n",
            "Day of the week for your birthday in the next 100 years:\n",
            "1975: Saturday\n",
            "1976: Sunday\n",
            "1977: Tuesday\n",
            "1978: Wednesday\n",
            "1979: Thursday\n",
            "1980: Friday\n",
            "1981: Sunday\n",
            "1982: Monday\n",
            "1983: Tuesday\n",
            "1984: Wednesday\n",
            "1985: Friday\n",
            "1986: Saturday\n",
            "1987: Sunday\n",
            "1988: Monday\n",
            "1989: Wednesday\n",
            "1990: Thursday\n",
            "1991: Friday\n",
            "1992: Saturday\n",
            "1993: Monday\n",
            "1994: Tuesday\n",
            "1995: Wednesday\n",
            "1996: Thursday\n",
            "1997: Saturday\n",
            "1998: Sunday\n",
            "1999: Monday\n",
            "2000: Tuesday\n",
            "2001: Thursday\n",
            "2002: Friday\n",
            "2003: Saturday\n",
            "2004: Sunday\n",
            "2005: Tuesday\n",
            "2006: Wednesday\n",
            "2007: Thursday\n",
            "2008: Friday\n",
            "2009: Sunday\n",
            "2010: Monday\n",
            "2011: Tuesday\n",
            "2012: Wednesday\n",
            "2013: Friday\n",
            "2014: Saturday\n",
            "2015: Sunday\n",
            "2016: Monday\n",
            "2017: Wednesday\n",
            "2018: Thursday\n",
            "2019: Friday\n",
            "2020: Saturday\n",
            "2021: Monday\n",
            "2022: Tuesday\n",
            "2023: Wednesday\n",
            "2024: Thursday\n",
            "2025: Saturday\n",
            "2026: Sunday\n",
            "2027: Monday\n",
            "2028: Tuesday\n",
            "2029: Thursday\n",
            "2030: Friday\n",
            "2031: Saturday\n",
            "2032: Sunday\n",
            "2033: Tuesday\n",
            "2034: Wednesday\n",
            "2035: Thursday\n",
            "2036: Friday\n",
            "2037: Sunday\n",
            "2038: Monday\n",
            "2039: Tuesday\n",
            "2040: Wednesday\n",
            "2041: Friday\n",
            "2042: Saturday\n",
            "2043: Sunday\n",
            "2044: Monday\n",
            "2045: Wednesday\n",
            "2046: Thursday\n",
            "2047: Friday\n",
            "2048: Saturday\n",
            "2049: Monday\n",
            "2050: Tuesday\n",
            "2051: Wednesday\n",
            "2052: Thursday\n",
            "2053: Saturday\n",
            "2054: Sunday\n",
            "2055: Monday\n",
            "2056: Tuesday\n",
            "2057: Thursday\n",
            "2058: Friday\n",
            "2059: Saturday\n",
            "2060: Sunday\n",
            "2061: Tuesday\n",
            "2062: Wednesday\n",
            "2063: Thursday\n",
            "2064: Friday\n",
            "2065: Sunday\n",
            "2066: Monday\n",
            "2067: Tuesday\n",
            "2068: Wednesday\n",
            "2069: Friday\n",
            "2070: Saturday\n",
            "2071: Sunday\n",
            "2072: Monday\n",
            "2073: Wednesday\n",
            "2074: Thursday\n",
            "2075: Friday\n"
          ]
        }
      ],
      "source": [
        "import datetime\n",
        "\n",
        "# Get the user's birthday as input\n",
        "while True:\n",
        "    try:\n",
        "        birthday_str = input(\"Enter your birthday (YYYY-MM-DD): \")\n",
        "        birthday = datetime.datetime.strptime(birthday_str, \"%Y-%m-%d\").date()\n",
        "        break\n",
        "    except ValueError:\n",
        "        print(\"Invalid date format. Please use YYYY-MM-DD.\")\n",
        "\n",
        "# Calculate and display the day of the week for the next 100 years\n",
        "print(\"\\nDay of the week for your birthday in the next 100 years:\")\n",
        "for i in range(101):\n",
        "    future_year = birthday.year + i\n",
        "    future_birthday = birthday.replace(year=future_year)\n",
        "    day_of_week = future_birthday.strftime(\"%A\")\n",
        "    print(f\"{future_year}: {day_of_week}\")"
      ]
    },
    {
      "cell_type": "code",
      "source": [
        "!echo \"# 631-1\" >> README.md\n",
        "!git init\n",
        "!git add README.md\n",
        "!git commit -m \"first commit\"\n",
        "!git branch -M main\n",
        "!git remote add origin https://github.com/demetriusohalloran-byte/631-1.git\n",
        "!git push -u origin main"
      ],
      "metadata": {
        "colab": {
          "base_uri": "https://localhost:8080/"
        },
        "id": "p-WgiDyDnFCG",
        "outputId": "15463687-8633-464b-bd9f-2299bfa822d6"
      },
      "execution_count": 11,
      "outputs": [
        {
          "output_type": "stream",
          "name": "stdout",
          "text": [
            "Reinitialized existing Git repository in /content/.git/\n",
            "[main 8e7e359] first commit\n",
            " 1 file changed, 1 insertion(+)\n",
            "error: remote origin already exists.\n",
            "fatal: could not read Username for 'https://github.com': No such device or address\n"
          ]
        }
      ]
    },
    {
      "cell_type": "code",
      "source": [
        "!git remote add origin https://github.com/demetriusohalloran-byte/631.git\n",
        "!git branch -M main\n",
        "!git push -u origin main"
      ],
      "metadata": {
        "colab": {
          "base_uri": "https://localhost:8080/"
        },
        "id": "2fkxeXump9UL",
        "outputId": "ed3cceec-9f5d-43e3-ef7a-9411f1b0190e"
      },
      "execution_count": 14,
      "outputs": [
        {
          "output_type": "stream",
          "name": "stdout",
          "text": [
            "error: remote origin already exists.\n",
            "fatal: could not read Username for 'https://github.com': No such device or address\n"
          ]
        }
      ]
    },
    {
      "cell_type": "code",
      "metadata": {
        "id": "6236af6e"
      },
      "source": [
        "# Set your Git username and email\n",
        "!git config --global user.email demetrius.ohalloran@gmail.com\n",
        "!git config --global user.name demetriusohalloran-byte\n"
      ],
      "execution_count": 15,
      "outputs": []
    }
  ]
}